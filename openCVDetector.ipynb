{
 "cells": [
  {
   "cell_type": "markdown",
   "metadata": {},
   "source": [
    "$$ Colored circles, Aruco, Face Detectors - using  OpenCV $$"
   ]
  },
  {
   "cell_type": "code",
   "execution_count": 1,
   "metadata": {},
   "outputs": [],
   "source": [
    "import cv2 as cv\n",
    "import cv2.aruco as aruco\n",
    "import glob\n",
    "import numpy as np\n",
    "import pandas as pd\n",
    "import time"
   ]
  },
  {
   "cell_type": "markdown",
   "metadata": {},
   "source": [
    "$$ Color Pattern Detector $$"
   ]
  },
  {
   "cell_type": "code",
   "execution_count": null,
   "metadata": {},
   "outputs": [],
   "source": [
    "start_time = time.time()\n",
    "\n",
    "# use this for image\n",
    "#img = cv.imread('color_detector.png') \n",
    "\n",
    "#use this for live feed\n",
    "video = cv.VideoCapture(0)\n",
    "\n",
    "check, frame = video.read()\n",
    "\n",
    "print(check)\n",
    "#print(frame)\n",
    "cv.imshow(\"Window\", frame)\n",
    "video.release()\n",
    "\n",
    "cv.waitKey(0)\n",
    "img=cv.resize(frame,(int(frame.shape[1]/2),int(frame.shape[0]/2)))\n",
    "\n",
    "###################################################\n",
    "\n",
    "hsv = cv.cvtColor(img, cv.COLOR_BGR2HSV)\n",
    "\n",
    "#Red color rangle  169, 100, 100 , 189, 255, 255\n",
    "\n",
    "lower_range = np.array([110,50,50])\n",
    "upper_range = np.array([130,255,255])\n",
    " \n",
    "mask = cv.inRange(hsv, lower_range, upper_range)\n",
    " \n",
    "cv.imshow('image', img)\n",
    "cv.imshow('mask', mask)\n",
    "\n",
    "exec_time = time.time() - start_time\n",
    "\n",
    "cv.waitKey(0)\n",
    "cv.destroyAllWindows()\n",
    "\n",
    "print(\"Execution time is \",exec_time)"
   ]
  },
  {
   "cell_type": "markdown",
   "metadata": {},
   "source": [
    "$$ Aruco Marker detector $$"
   ]
  },
  {
   "cell_type": "code",
   "execution_count": null,
   "metadata": {},
   "outputs": [],
   "source": [
    "#____________________________ to create the Aruco______________#\n",
    "\n",
    "dictionary = cv.aruco.Dictionary_get(cv.aruco.DICT_6X6_250)\n",
    "\n",
    "markerIm = np.zeros((200, 200), dtype=np.uint8)\n",
    "markerIm = cv.aruco.drawMarker(dictionary, 33, 200, markerIm, 1)\n",
    " \n",
    "cv.imwrite(\"Marker_Satyam.png\", markerIm)\n",
    "cv.imshow('Satyam', markerIm)\n",
    "cv.waitKey(0)\n",
    "cv.destroyAllWindows()"
   ]
  },
  {
   "cell_type": "code",
   "execution_count": 3,
   "metadata": {},
   "outputs": [],
   "source": [
    "#________________________ to detect the Aruco______________________#\n",
    "\n",
    "cap = cv.VideoCapture(0)\n",
    "\n",
    "while (True):\n",
    "    sat, img = cap.read()\n",
    "    gray = cv.cvtColor(img, cv.COLOR_BGR2GRAY)    \n",
    "    aruco_dict = aruco.Dictionary_get(aruco.DICT_6X6_250)    \n",
    "    parameters = aruco.DetectorParameters_create()\n",
    "    parameters.adaptiveThreshConstant = 10\n",
    "   \n",
    "    corners, ids, rejectedImgPoints = aruco.detectMarkers(gray, aruco_dict, parameters=parameters)\n",
    "\n",
    "    font = cv.FONT_HERSHEY_SIMPLEX\n",
    "   \n",
    "    if np.all(ids != None):        \n",
    "        rvec, tvec ,_ = aruco.estimatePoseSingleMarkers(corners, 0.05, mtx, dist)        \n",
    "\n",
    "        for i in range(0, ids.size):            \n",
    "            aruco.drawAxis(img, mtx, dist, rvec[i], tvec[i], 0.1)\n",
    "        \n",
    "        aruco.drawDetectedMarkers(img, corners)\n",
    "        \n",
    "        strg = ''\n",
    "        for i in range(0, ids.size):\n",
    "            strg += str(ids[i][0])+', '\n",
    "\n",
    "        cv.putText(img, \"ID: \" + strg, (0,64), font, 1, (0,255,0),2,cv.LINE_AA)\n",
    "\n",
    "    else:        \n",
    "        cv.putText(img, \"No IDs Found\", (0,64), font, 1, (0,255,0),2,cv.LINE_AA)\n",
    "    \n",
    "    cv.imshow('Satyam',img)\n",
    "    if cv.waitKey(1) & 0xFF == ord('s'):\n",
    "        break\n",
    "\n",
    "cap.release()\n",
    "cv.destroyAllWindows()"
   ]
  },
  {
   "cell_type": "markdown",
   "metadata": {},
   "source": [
    "$$ Face Detection Logic\n",
    "$$"
   ]
  },
  {
   "cell_type": "code",
   "execution_count": null,
   "metadata": {},
   "outputs": [],
   "source": [
    "start_time = time.time()\n",
    "video = cv.VideoCapture(0)\n",
    "\n",
    "check, frame = video.read()\n",
    "\n",
    "print(check)\n",
    "#print(frame)\n",
    "cv.imshow(\"Window\", frame)\n",
    "video.release()\n",
    "\n",
    "cv.waitKey(0)\n",
    "img=cv.resize(frame,(int(frame.shape[1]/2),int(frame.shape[0]/2)))\n",
    "gray_img = cv.cvtColor(img, cv.COLOR_BGR2GRAY)\n",
    "# cv.imshow(\"Display\", gray_img)\n",
    "face_casc = cv.CascadeClassifier(\"haarcascade_frontalface_default.xml\")\n",
    "face_co = face_casc.detectMultiScale(gray_img, scaleFactor = 1.05, minNeighbors = 5)\n",
    "print(type(face_co))\n",
    "print(face_co)    \n",
    "\n",
    "for x, y,w,h in face_co:\n",
    "    img = cv.rectangle(img,(x,y),(x+w,y+h), (0,255,0),3)    \n",
    "cv.imshow(\"Display\",img)\n",
    "end_time = time.time()\n",
    "exec_time = end_time-start_time\n",
    "print(\"Time for detecting the face =\", exec_time)\n",
    "\n",
    "#time.sleep(3)\n",
    "\n",
    "video.release()\n",
    "\n",
    "cv.waitKey(0)\n",
    "cv.destroyAllWindows"
   ]
  }
 ],
 "metadata": {
  "kernelspec": {
   "display_name": "Python 3",
   "language": "python",
   "name": "python3"
  },
  "language_info": {
   "codemirror_mode": {
    "name": "ipython",
    "version": 3
   },
   "file_extension": ".py",
   "mimetype": "text/x-python",
   "name": "python",
   "nbconvert_exporter": "python",
   "pygments_lexer": "ipython3",
   "version": "3.7.4"
  }
 },
 "nbformat": 4,
 "nbformat_minor": 4
}
